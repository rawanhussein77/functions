{
  "cells": [
    {
      "cell_type": "markdown",
      "metadata": {
        "id": "view-in-github",
        "colab_type": "text"
      },
      "source": [
        "<a href=\"https://colab.research.google.com/github/rawanhussein77/functions/blob/main/Welcome_To_Colab.ipynb\" target=\"_parent\"><img src=\"https://colab.research.google.com/assets/colab-badge.svg\" alt=\"Open In Colab\"/></a>"
      ]
    },
    {
      "cell_type": "code",
      "source": [
        "import pandas as pd\n",
        "from dash import Dash, dcc, html\n",
        "import plotly.express as px\n",
        "import plotly.graph_objects as go\n",
        "\n",
        "# Load your dataset\n",
        "# Replace with the correct file path\n",
        "file_path = (r\"/country_wise_latest (1) (1).csv\")\n",
        "data = pd.read_csv(file_path)\n",
        "\n",
        "# Check available columns\n",
        "print(data.columns)\n",
        "\n",
        "# Data Processing (adjust these based on your dataset)\n",
        "total_cases = data['Confirmed'].sum()\n",
        "active_cases = data['Active'].sum()\n",
        "recovered_cases = data['Recovered'].sum()\n",
        "deaths = data['Deaths'].sum()\n",
        "\n",
        "# Generate a Date column if not available\n",
        "data['Date'] = pd.date_range(start='2024-01-01', periods=len(data))\n",
        "\n",
        "# Line Chart - New Cases per Day\n",
        "line_chart_fig = px.line(\n",
        "    data,\n",
        "    x='Date',\n",
        "    y='New cases',\n",
        "    title='New Cases per Day',\n",
        "    labels={'New cases': 'New Cases'}\n",
        ")\n",
        "\n",
        "# Pie Chart - Case Distribution\n",
        "pie_chart_fig = px.pie(\n",
        "    values=[active_cases, recovered_cases, deaths],\n",
        "    names=['Active', 'Recovered', 'Deaths'],\n",
        "    title='Total Coronavirus Cases',\n",
        "    hole=0.4\n",
        ")\n",
        "\n",
        "# Map Visualization (Static Example)\n",
        "map_fig = go.Figure(data=go.Scattergeo(\n",
        "    locationmode='country names',\n",
        "    locations=data['Country/Region'],  # Replace with appropriate country/region data\n",
        "    text=data['Country/Region'] + '<br>' + 'Active: ' + data['Active'].astype(str),\n",
        "    marker=dict(\n",
        "        size=data['Active'] / 1000,  # Adjust size dynamically\n",
        "        color='blue',\n",
        "        line_width=0.5\n",
        "    )\n",
        "))\n",
        "map_fig.update_layout(\n",
        "    title='Report Coronavirus Cases Map',\n",
        "    geo=dict(\n",
        "        showland=True,\n",
        "        landcolor='rgb(17,17,17)',\n",
        "        projection_type='equirectangular'\n",
        "    ),\n",
        "    paper_bgcolor='rgb(17,17,17)',\n",
        "    font_color='white'\n",
        ")\n",
        "\n",
        "# Initialize Dash app\n",
        "app = Dash(__name__)\n",
        "\n",
        "# Dashboard Layout\n",
        "app.layout = html.Div(style={'backgroundColor': '#111111', 'color': 'white'}, children=[\n",
        "    html.H1(\"COVID-19 Dashboard\", style={'textAlign': 'center'}),\n",
        "\n",
        "    html.Div([\n",
        "        html.Div([\n",
        "            html.H3(f\"Total Cases: {total_cases}\", style={'textAlign': 'center'}),\n",
        "            html.P(f\"Active: {active_cases}, Recovered: {recovered_cases}, Deaths: {deaths}\")\n",
        "        ], style={'width': '30%', 'display': 'inline-block', 'textAlign': 'center'}),\n",
        "    ]),\n",
        "\n",
        "    html.Div([\n",
        "        dcc.Graph(figure=line_chart_fig, style={'display': 'inline-block', 'width': '48%'}),\n",
        "        dcc.Graph(figure=pie_chart_fig, style={'display': 'inline-block', 'width': '48%'}),\n",
        "    ]),\n",
        "\n",
        "    html.Div([\n",
        "        dcc.Graph(figure=map_fig, style={'width': '100%'})\n",
        "    ])\n",
        "])\n",
        "\n",
        "# Run app\n",
        "if __name__ == '__main__':\n",
        "    app.run_server(debug=True)\n"
      ],
      "metadata": {
        "id": "QEkEiwGFhxKt",
        "outputId": "18948964-ed99-415d-d644-521520c0ac5d",
        "colab": {
          "base_uri": "https://localhost:8080/",
          "height": 775
        }
      },
      "execution_count": 22,
      "outputs": [
        {
          "output_type": "stream",
          "name": "stdout",
          "text": [
            "Index(['Country/Region', 'Confirmed', 'Deaths', 'Recovered', 'Active',\n",
            "       'New cases', 'New deaths', 'New recovered', 'Deaths / 100 Cases',\n",
            "       'Recovered / 100 Cases', 'Deaths / 100 Recovered',\n",
            "       'Confirmed last week', '1 week change', '1 week % increase',\n",
            "       'WHO Region'],\n",
            "      dtype='object')\n"
          ]
        },
        {
          "output_type": "display_data",
          "data": {
            "text/plain": [
              "<IPython.core.display.Javascript object>"
            ],
            "application/javascript": [
              "(async (port, path, width, height, cache, element) => {\n",
              "    if (!google.colab.kernel.accessAllowed && !cache) {\n",
              "      return;\n",
              "    }\n",
              "    element.appendChild(document.createTextNode(''));\n",
              "    const url = await google.colab.kernel.proxyPort(port, {cache});\n",
              "    const iframe = document.createElement('iframe');\n",
              "    iframe.src = new URL(path, url).toString();\n",
              "    iframe.height = height;\n",
              "    iframe.width = width;\n",
              "    iframe.style.border = 0;\n",
              "    iframe.allow = [\n",
              "        'accelerometer',\n",
              "        'autoplay',\n",
              "        'camera',\n",
              "        'clipboard-read',\n",
              "        'clipboard-write',\n",
              "        'gyroscope',\n",
              "        'magnetometer',\n",
              "        'microphone',\n",
              "        'serial',\n",
              "        'usb',\n",
              "        'xr-spatial-tracking',\n",
              "    ].join('; ');\n",
              "    element.appendChild(iframe);\n",
              "  })(8050, \"/\", \"100%\", 650, false, window.element)"
            ]
          },
          "metadata": {}
        }
      ]
    }
  ],
  "metadata": {
    "colab": {
      "name": "Welcome To Colab",
      "provenance": [],
      "include_colab_link": true
    },
    "kernelspec": {
      "display_name": "Python 3",
      "name": "python3"
    }
  },
  "nbformat": 4,
  "nbformat_minor": 0
}