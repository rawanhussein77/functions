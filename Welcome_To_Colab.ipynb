{
  "cells": [
    {
      "cell_type": "markdown",
      "metadata": {
        "id": "view-in-github",
        "colab_type": "text"
      },
      "source": [
        "<a href=\"https://colab.research.google.com/github/rawanhussein77/functions/blob/main/Welcome_To_Colab.ipynb\" target=\"_parent\"><img src=\"https://colab.research.google.com/assets/colab-badge.svg\" alt=\"Open In Colab\"/></a>"
      ]
    },
    {
      "cell_type": "code",
      "source": [
        "import pandas as pd\n",
        "import dash\n",
        "from dash import dcc, html, Input, Output\n",
        "import plotly.express as px\n",
        "\n",
        "file_path = (r'/country_wise_latest (2).csv')\n",
        "covid_data = pd.read_csv(file_path)\n",
        "\n",
        "\n",
        "covid_data = covid_data.rename(columns={\n",
        "    \"Country/Region\": \"Country\",\n",
        "    \"WHO Region\": \"Region\"\n",
        "})\n",
        "covid_data[\"Active\"] = covid_data[\"Confirmed\"] - (covid_data[\"Deaths\"] + covid_data[\"Recovered\"])\n",
        "\n",
        "app = dash.Dash(__name__, external_stylesheets=[\"https://codepen.io/chriddyp/pen/bWLwgP.css\"])\n",
        "app.title = \"COVID-19 Dashboard\"\n",
        "\n",
        "\n",
        "app.layout = html.Div([\n",
        "    html.Div([\n",
        "        html.H1(\"COVID-19 Cases - Dashboard\", style={\"textAlign\": \"center\", \"margin-bottom\": \"20px\"}),\n",
        "\n",
        "        html.Div([\n",
        "            html.Label(\"Select Date Range\", style={\"fontWeight\": \"bold\"}),\n",
        "            dcc.DatePickerRange(\n",
        "                id=\"date-picker\",\n",
        "                start_date=\"2020-01-22\",\n",
        "                end_date=\"2020-03-11\",\n",
        "                display_format=\"YYYY-MM-DD\",\n",
        "                style={\"margin-bottom\": \"20px\"}\n",
        "            )\n",
        "        ]),\n",
        "\n",
        "        html.Div([\n",
        "            html.Label(\"Select Metric\", style={\"fontWeight\": \"bold\"}),\n",
        "            dcc.Dropdown(\n",
        "                id=\"metric-selector\",\n",
        "                options=[\n",
        "                    {\"label\": \"Total Cases\", \"value\": \"Confirmed\"},\n",
        "                    {\"label\": \"Recovered\", \"value\": \"Recovered\"},\n",
        "                    {\"label\": \"Deaths\", \"value\": \"Deaths\"},\n",
        "                    {\"label\": \"Active Cases\", \"value\": \"Active\"}\n",
        "                ],\n",
        "                value=\"Confirmed\",\n",
        "                style={\"width\": \"50%\", \"margin-bottom\": \"20px\"}\n",
        "            )\n",
        "        ]),\n",
        "\n",
        "        html.Div([\n",
        "            html.Label(\"Select Country\", style={\"fontWeight\": \"bold\"}),\n",
        "            dcc.Dropdown(\n",
        "                id=\"country-selector\",\n",
        "                options=[{\"label\": country, \"value\": country} for country in covid_data[\"Country\"].unique()],\n",
        "                placeholder=\"Select Country\",\n",
        "                multi=True,\n",
        "                style={\"width\": \"50%\", \"margin-bottom\": \"20px\"}\n",
        "            )\n",
        "        ])\n",
        "    ]),\n",
        "\n",
        "    html.Div([\n",
        "        html.Div([\n",
        "            dcc.Graph(id=\"line-chart\", style={\"height\": \"400px\"})\n",
        "        ], style={\"width\": \"100%\", \"display\": \"inline-block\"}),\n",
        "\n",
        "        html.Div([\n",
        "            dcc.Graph(id=\"map-chart\", style={\"height\": \"400px\"})\n",
        "        ], style={\"width\": \"100%\", \"display\": \"inline-block\", \"margin-top\": \"20px\"}),\n",
        "\n",
        "        html.Div([\n",
        "            html.Div([\n",
        "                dcc.Graph(id=\"bar-chart\")\n",
        "            ], style={\"width\": \"48%\", \"display\": \"inline-block\"}),\n",
        "\n",
        "            html.Div([\n",
        "                dcc.Graph(id=\"pie-chart\")\n",
        "            ], style={\"width\": \"48%\", \"display\": \"inline-block\"})\n",
        "        ], style={\"margin-top\": \"20px\"})\n",
        "    ])\n",
        "])\n",
        "\n",
        "\n",
        "@app.callback(\n",
        "    [\n",
        "        Output(\"line-chart\", \"figure\"),\n",
        "        Output(\"map-chart\", \"figure\"),\n",
        "        Output(\"bar-chart\", \"figure\"),\n",
        "        Output(\"pie-chart\", \"figure\")\n",
        "    ],\n",
        "    [\n",
        "        Input(\"date-picker\", \"start_date\"),\n",
        "        Input(\"date-picker\", \"end_date\"),\n",
        "        Input(\"metric-selector\", \"value\"),\n",
        "        Input(\"country-selector\", \"value\")\n",
        "    ]\n",
        ")\n",
        "def update_charts(start_date, end_date, selected_metric, selected_countries):\n",
        "\n",
        "    filtered_data = covid_data\n",
        "\n",
        "    if selected_countries:\n",
        "        filtered_data = filtered_data[filtered_data[\"Country\"].isin(selected_countries)]\n",
        "\n",
        "\n",
        "    line_fig = px.line(\n",
        "        filtered_data,\n",
        "        x=\"Country\",\n",
        "        y=selected_metric,\n",
        "        color=\"Region\",\n",
        "        title=f\"{selected_metric} Trends by Country\"\n",
        "    )\n",
        "\n",
        "\n",
        "    map_fig = px.scatter_geo(\n",
        "        filtered_data,\n",
        "        locations=\"Country\",\n",
        "        locationmode=\"country names\",\n",
        "        size=selected_metric,\n",
        "        color=\"Region\",\n",
        "        title=f\"{selected_metric} Distribution on Map\",\n",
        "        projection=\"natural earth\"\n",
        "    )\n",
        "\n",
        "\n",
        "    bar_fig = px.bar(\n",
        "        filtered_data,\n",
        "        x=\"Country\",\n",
        "        y=selected_metric,\n",
        "        color=\"Region\",\n",
        "        title=f\"{selected_metric} by Country\"\n",
        "    )\n",
        "\n",
        "\n",
        "    pie_fig = px.pie(\n",
        "        filtered_data,\n",
        "        values=selected_metric,\n",
        "        names=\"Country\",\n",
        "        title=f\"{selected_metric} Distribution by Country\"\n",
        "    )\n",
        "\n",
        "    return line_fig, map_fig, bar_fig, pie_fig\n",
        "\n",
        "\n",
        "if __name__ == \"__main__\":\n",
        "    app.run_server(debug=True)\n"
      ],
      "metadata": {
        "colab": {
          "base_uri": "https://localhost:8080/",
          "height": 671
        },
        "id": "RmmYbj4pQ0Ru",
        "outputId": "5dd187f7-5709-43f9-9889-e19a68d240d4"
      },
      "execution_count": 7,
      "outputs": [
        {
          "output_type": "display_data",
          "data": {
            "text/plain": [
              "<IPython.core.display.Javascript object>"
            ],
            "application/javascript": [
              "(async (port, path, width, height, cache, element) => {\n",
              "    if (!google.colab.kernel.accessAllowed && !cache) {\n",
              "      return;\n",
              "    }\n",
              "    element.appendChild(document.createTextNode(''));\n",
              "    const url = await google.colab.kernel.proxyPort(port, {cache});\n",
              "    const iframe = document.createElement('iframe');\n",
              "    iframe.src = new URL(path, url).toString();\n",
              "    iframe.height = height;\n",
              "    iframe.width = width;\n",
              "    iframe.style.border = 0;\n",
              "    iframe.allow = [\n",
              "        'accelerometer',\n",
              "        'autoplay',\n",
              "        'camera',\n",
              "        'clipboard-read',\n",
              "        'clipboard-write',\n",
              "        'gyroscope',\n",
              "        'magnetometer',\n",
              "        'microphone',\n",
              "        'serial',\n",
              "        'usb',\n",
              "        'xr-spatial-tracking',\n",
              "    ].join('; ');\n",
              "    element.appendChild(iframe);\n",
              "  })(8050, \"/\", \"100%\", 650, false, window.element)"
            ]
          },
          "metadata": {}
        }
      ]
    },
    {
      "cell_type": "code",
      "source": [
        "pip install pandas plotly dash"
      ],
      "metadata": {
        "id": "McUKQCs-TbQG",
        "outputId": "531a10d8-42e7-42a5-cada-33d10e0356f2",
        "colab": {
          "base_uri": "https://localhost:8080/"
        }
      },
      "execution_count": 6,
      "outputs": [
        {
          "output_type": "stream",
          "name": "stdout",
          "text": [
            "Requirement already satisfied: pandas in /usr/local/lib/python3.10/dist-packages (2.2.2)\n",
            "Requirement already satisfied: plotly in /usr/local/lib/python3.10/dist-packages (5.24.1)\n",
            "Collecting dash\n",
            "  Downloading dash-2.18.2-py3-none-any.whl.metadata (10 kB)\n",
            "Requirement already satisfied: numpy>=1.22.4 in /usr/local/lib/python3.10/dist-packages (from pandas) (1.26.4)\n",
            "Requirement already satisfied: python-dateutil>=2.8.2 in /usr/local/lib/python3.10/dist-packages (from pandas) (2.8.2)\n",
            "Requirement already satisfied: pytz>=2020.1 in /usr/local/lib/python3.10/dist-packages (from pandas) (2024.2)\n",
            "Requirement already satisfied: tzdata>=2022.7 in /usr/local/lib/python3.10/dist-packages (from pandas) (2024.2)\n",
            "Requirement already satisfied: tenacity>=6.2.0 in /usr/local/lib/python3.10/dist-packages (from plotly) (9.0.0)\n",
            "Requirement already satisfied: packaging in /usr/local/lib/python3.10/dist-packages (from plotly) (24.2)\n",
            "Requirement already satisfied: Flask<3.1,>=1.0.4 in /usr/local/lib/python3.10/dist-packages (from dash) (3.0.3)\n",
            "Collecting Werkzeug<3.1 (from dash)\n",
            "  Downloading werkzeug-3.0.6-py3-none-any.whl.metadata (3.7 kB)\n",
            "Collecting dash-html-components==2.0.0 (from dash)\n",
            "  Downloading dash_html_components-2.0.0-py3-none-any.whl.metadata (3.8 kB)\n",
            "Collecting dash-core-components==2.0.0 (from dash)\n",
            "  Downloading dash_core_components-2.0.0-py3-none-any.whl.metadata (2.9 kB)\n",
            "Collecting dash-table==5.0.0 (from dash)\n",
            "  Downloading dash_table-5.0.0-py3-none-any.whl.metadata (2.4 kB)\n",
            "Requirement already satisfied: importlib-metadata in /usr/local/lib/python3.10/dist-packages (from dash) (8.5.0)\n",
            "Requirement already satisfied: typing-extensions>=4.1.1 in /usr/local/lib/python3.10/dist-packages (from dash) (4.12.2)\n",
            "Requirement already satisfied: requests in /usr/local/lib/python3.10/dist-packages (from dash) (2.32.3)\n",
            "Collecting retrying (from dash)\n",
            "  Downloading retrying-1.3.4-py3-none-any.whl.metadata (6.9 kB)\n",
            "Requirement already satisfied: nest-asyncio in /usr/local/lib/python3.10/dist-packages (from dash) (1.6.0)\n",
            "Requirement already satisfied: setuptools in /usr/local/lib/python3.10/dist-packages (from dash) (75.1.0)\n",
            "Requirement already satisfied: Jinja2>=3.1.2 in /usr/local/lib/python3.10/dist-packages (from Flask<3.1,>=1.0.4->dash) (3.1.4)\n",
            "Requirement already satisfied: itsdangerous>=2.1.2 in /usr/local/lib/python3.10/dist-packages (from Flask<3.1,>=1.0.4->dash) (2.2.0)\n",
            "Requirement already satisfied: click>=8.1.3 in /usr/local/lib/python3.10/dist-packages (from Flask<3.1,>=1.0.4->dash) (8.1.7)\n",
            "Requirement already satisfied: blinker>=1.6.2 in /usr/local/lib/python3.10/dist-packages (from Flask<3.1,>=1.0.4->dash) (1.9.0)\n",
            "Requirement already satisfied: six>=1.5 in /usr/local/lib/python3.10/dist-packages (from python-dateutil>=2.8.2->pandas) (1.17.0)\n",
            "Requirement already satisfied: MarkupSafe>=2.1.1 in /usr/local/lib/python3.10/dist-packages (from Werkzeug<3.1->dash) (3.0.2)\n",
            "Requirement already satisfied: zipp>=3.20 in /usr/local/lib/python3.10/dist-packages (from importlib-metadata->dash) (3.21.0)\n",
            "Requirement already satisfied: charset-normalizer<4,>=2 in /usr/local/lib/python3.10/dist-packages (from requests->dash) (3.4.0)\n",
            "Requirement already satisfied: idna<4,>=2.5 in /usr/local/lib/python3.10/dist-packages (from requests->dash) (3.10)\n",
            "Requirement already satisfied: urllib3<3,>=1.21.1 in /usr/local/lib/python3.10/dist-packages (from requests->dash) (2.2.3)\n",
            "Requirement already satisfied: certifi>=2017.4.17 in /usr/local/lib/python3.10/dist-packages (from requests->dash) (2024.8.30)\n",
            "Downloading dash-2.18.2-py3-none-any.whl (7.8 MB)\n",
            "\u001b[2K   \u001b[90m━━━━━━━━━━━━━━━━━━━━━━━━━━━━━━━━━━━━━━━━\u001b[0m \u001b[32m7.8/7.8 MB\u001b[0m \u001b[31m48.5 MB/s\u001b[0m eta \u001b[36m0:00:00\u001b[0m\n",
            "\u001b[?25hDownloading dash_core_components-2.0.0-py3-none-any.whl (3.8 kB)\n",
            "Downloading dash_html_components-2.0.0-py3-none-any.whl (4.1 kB)\n",
            "Downloading dash_table-5.0.0-py3-none-any.whl (3.9 kB)\n",
            "Downloading werkzeug-3.0.6-py3-none-any.whl (227 kB)\n",
            "\u001b[2K   \u001b[90m━━━━━━━━━━━━━━━━━━━━━━━━━━━━━━━━━━━━━━━━\u001b[0m \u001b[32m228.0/228.0 kB\u001b[0m \u001b[31m15.4 MB/s\u001b[0m eta \u001b[36m0:00:00\u001b[0m\n",
            "\u001b[?25hDownloading retrying-1.3.4-py3-none-any.whl (11 kB)\n",
            "Installing collected packages: dash-table, dash-html-components, dash-core-components, Werkzeug, retrying, dash\n",
            "  Attempting uninstall: Werkzeug\n",
            "    Found existing installation: Werkzeug 3.1.3\n",
            "    Uninstalling Werkzeug-3.1.3:\n",
            "      Successfully uninstalled Werkzeug-3.1.3\n",
            "Successfully installed Werkzeug-3.0.6 dash-2.18.2 dash-core-components-2.0.0 dash-html-components-2.0.0 dash-table-5.0.0 retrying-1.3.4\n"
          ]
        }
      ]
    },
    {
      "cell_type": "code",
      "source": [
        "pip freeze > requirements.txt"
      ],
      "metadata": {
        "id": "MPOwB45gWZHv"
      },
      "execution_count": 8,
      "outputs": []
    },
    {
      "cell_type": "code",
      "source": [
        "!git init\n",
        "!git add .\n",
        "!git commit -m \"Initial commit for COVID-19 Dashboard\"\n"
      ],
      "metadata": {
        "id": "WgLJghojj6vr",
        "outputId": "e9b4e955-b20e-4d42-d8d9-5402587520d8",
        "colab": {
          "base_uri": "https://localhost:8080/"
        }
      },
      "execution_count": 10,
      "outputs": [
        {
          "output_type": "stream",
          "name": "stdout",
          "text": [
            "\u001b[33mhint: Using 'master' as the name for the initial branch. This default branch name\u001b[m\n",
            "\u001b[33mhint: is subject to change. To configure the initial branch name to use in all\u001b[m\n",
            "\u001b[33mhint: of your new repositories, which will suppress this warning, call:\u001b[m\n",
            "\u001b[33mhint: \u001b[m\n",
            "\u001b[33mhint: \tgit config --global init.defaultBranch <name>\u001b[m\n",
            "\u001b[33mhint: \u001b[m\n",
            "\u001b[33mhint: Names commonly chosen instead of 'master' are 'main', 'trunk' and\u001b[m\n",
            "\u001b[33mhint: 'development'. The just-created branch can be renamed via this command:\u001b[m\n",
            "\u001b[33mhint: \u001b[m\n",
            "\u001b[33mhint: \tgit branch -m <name>\u001b[m\n",
            "Initialized empty Git repository in /content/.git/\n",
            "Author identity unknown\n",
            "\n",
            "*** Please tell me who you are.\n",
            "\n",
            "Run\n",
            "\n",
            "  git config --global user.email \"you@example.com\"\n",
            "  git config --global user.name \"Your Name\"\n",
            "\n",
            "to set your account's default identity.\n",
            "Omit --global to set the identity only in this repository.\n",
            "\n",
            "fatal: unable to auto-detect email address (got 'root@18545680b6c1.(none)')\n"
          ]
        }
      ]
    },
    {
      "cell_type": "code",
      "source": [
        "pip install -r requirements.txt\n"
      ],
      "metadata": {
        "id": "yEzVAQZvkM7N",
        "outputId": "93831480-ed2d-4489-f813-2afe1ac16759",
        "colab": {
          "base_uri": "https://localhost:8080/"
        }
      },
      "execution_count": 12,
      "outputs": [
        {
          "output_type": "stream",
          "name": "stdout",
          "text": [
            "Collecting cudf-cu12@ https://pypi.nvidia.com/cudf-cu12/cudf_cu12-24.10.1-cp310-cp310-manylinux_2_24_x86_64.manylinux_2_28_x86_64.whl (from -r requirements.txt (line 60))\n",
            "  Using cached https://pypi.nvidia.com/cudf-cu12/cudf_cu12-24.10.1-cp310-cp310-manylinux_2_24_x86_64.manylinux_2_28_x86_64.whl (24.9 MB)\n",
            "Collecting en-core-web-sm@ https://github.com/explosion/spacy-models/releases/download/en_core_web_sm-3.7.1/en_core_web_sm-3.7.1-py3-none-any.whl#sha256=86cc141f63942d4b2c5fcee06630fd6f904788d2f0ab005cce45aadb8fb73889 (from -r requirements.txt (line 95))\n",
            "  Using cached https://github.com/explosion/spacy-models/releases/download/en_core_web_sm-3.7.1/en_core_web_sm-3.7.1-py3-none-any.whl (12.8 MB)\n",
            "Processing /colabtools/dist/google_colab-1.0.0.tar.gz (from -r requirements.txt (line 155))\n",
            "\u001b[31mERROR: Could not install packages due to an OSError: [Errno 2] No such file or directory: '/colabtools/dist/google_colab-1.0.0.tar.gz'\n",
            "\u001b[0m\u001b[31m\n",
            "\u001b[0m"
          ]
        }
      ]
    },
    {
      "cell_type": "code",
      "source": [],
      "metadata": {
        "id": "5AYw1LAHkUiu"
      },
      "execution_count": null,
      "outputs": []
    }
  ],
  "metadata": {
    "colab": {
      "name": "Welcome To Colab",
      "provenance": [],
      "include_colab_link": true
    },
    "kernelspec": {
      "display_name": "Python 3",
      "name": "python3"
    }
  },
  "nbformat": 4,
  "nbformat_minor": 0
}